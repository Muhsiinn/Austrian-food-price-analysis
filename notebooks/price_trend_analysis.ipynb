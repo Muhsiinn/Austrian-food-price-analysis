{
 "cells": [
  {
   "cell_type": "code",
   "execution_count": 1,
   "id": "4a7cce39-b050-4f91-a63e-6c5c640b0a5b",
   "metadata": {},
   "outputs": [],
   "source": [
    "import pandas as pd \n",
    "import matplotlib.pyplot as plt \n",
    "import seaborn as sns "
   ]
  },
  {
   "cell_type": "code",
   "execution_count": 2,
   "id": "e76560eb-c7ac-41d0-9c61-0effc9ed02b7",
   "metadata": {},
   "outputs": [],
   "source": [
    "sns.set(style=\"whitegrid\")"
   ]
  },
  {
   "cell_type": "code",
   "execution_count": 6,
   "id": "2d165a58-d5d8-4c96-a3f0-52334f7d1b76",
   "metadata": {},
   "outputs": [
    {
     "data": {
      "text/plain": [
       "(            Iso3    StartDate     EndDate  Area Code Area Code (M49)  \\\n",
       " 0  #country+code  #date+start   #date+end        NaN             NaN   \n",
       " 1            AUT   1991-01-01  1991-12-31       11.0            '040   \n",
       " 2            AUT   1992-01-01  1992-12-31       11.0            '040   \n",
       " 3            AUT   1993-01-01  1993-12-31       11.0            '040   \n",
       " 4            AUT   1994-01-01  1994-12-31       11.0            '040   \n",
       " \n",
       "             Area        Item Code Item Code (CPC)             Item  \\\n",
       " 0  #country+name  #indicator+code             NaN  #indicator+name   \n",
       " 1        Austria              515          '01341           Apples   \n",
       " 2        Austria              515          '01341           Apples   \n",
       " 3        Austria              515          '01341           Apples   \n",
       " 4        Austria              515          '01341           Apples   \n",
       " \n",
       "    Element Code                     Element  Year Code        Year  \\\n",
       " 0           NaN                         NaN        NaN  #date+year   \n",
       " 1        5530.0  Producer Price (LCU/tonne)     1991.0        1991   \n",
       " 2        5530.0  Producer Price (LCU/tonne)     1992.0        1992   \n",
       " 3        5530.0  Producer Price (LCU/tonne)     1993.0        1993   \n",
       " 4        5530.0  Producer Price (LCU/tonne)     1994.0        1994   \n",
       " \n",
       "    Months Code        Months             Unit                 Value Flag  \n",
       " 0          NaN           NaN  #indicator+type  #indicator+value+num  NaN  \n",
       " 1       7021.0  Annual value              LCU           9620.000000    A  \n",
       " 2       7021.0  Annual value              LCU           8410.000000    A  \n",
       " 3       7021.0  Annual value              LCU           6560.000000    A  \n",
       " 4       7021.0  Annual value              LCU           5460.000000    A  ,\n",
       "             Iso3    StartDate     EndDate  Area Code Area Code (M49)  \\\n",
       " 0  #country+code  #date+start   #date+end        NaN             NaN   \n",
       " 1            AUT   2000-01-01  2000-01-31       11.0            '040   \n",
       " 2            AUT   2001-01-01  2001-01-31       11.0            '040   \n",
       " 3            AUT   2002-01-01  2002-01-31       11.0            '040   \n",
       " 4            AUT   2003-01-01  2003-01-31       11.0            '040   \n",
       " \n",
       "             Area        Item Code                                        Item  \\\n",
       " 0  #country+name  #indicator+code                             #indicator+name   \n",
       " 1        Austria            23013  Consumer Prices, Food Indices (2015 = 100)   \n",
       " 2        Austria            23013  Consumer Prices, Food Indices (2015 = 100)   \n",
       " 3        Austria            23013  Consumer Prices, Food Indices (2015 = 100)   \n",
       " 4        Austria            23013  Consumer Prices, Food Indices (2015 = 100)   \n",
       " \n",
       "    Element Code Element  Months Code   Months  Year Code        Year  \\\n",
       " 0           NaN     NaN          NaN      NaN        NaN  #date+year   \n",
       " 1        6125.0   Value       7001.0  January     2000.0        2000   \n",
       " 2        6125.0   Value       7001.0  January     2001.0        2001   \n",
       " 3        6125.0   Value       7001.0  January     2002.0        2002   \n",
       " 4        6125.0   Value       7001.0  January     2003.0        2003   \n",
       " \n",
       "               Unit                 Value Flag               Note  \n",
       " 0  #indicator+type  #indicator+value+num  NaN                NaN  \n",
       " 1              NaN             69.372870    X  base year is 2015  \n",
       " 2              NaN             70.861379    X  base year is 2015  \n",
       " 3              NaN             74.179770    X  base year is 2015  \n",
       " 4              NaN             74.110636    X  base year is 2015  )"
      ]
     },
     "execution_count": 6,
     "metadata": {},
     "output_type": "execute_result"
    }
   ],
   "source": [
    "producer_df = pd.read_csv(\"../data/producer-prices_aut.csv\")\n",
    "consumer_df = pd.read_csv(\"../data/consumer-price-indices_aut.csv\")\n"
   ]
  },
  {
   "cell_type": "code",
   "execution_count": 9,
   "id": "84b336b4-49d2-4171-b3b2-50ea13aad9f2",
   "metadata": {},
   "outputs": [
    {
     "data": {
      "text/html": [
       "<div>\n",
       "<style scoped>\n",
       "    .dataframe tbody tr th:only-of-type {\n",
       "        vertical-align: middle;\n",
       "    }\n",
       "\n",
       "    .dataframe tbody tr th {\n",
       "        vertical-align: top;\n",
       "    }\n",
       "\n",
       "    .dataframe thead th {\n",
       "        text-align: right;\n",
       "    }\n",
       "</style>\n",
       "<table border=\"1\" class=\"dataframe\">\n",
       "  <thead>\n",
       "    <tr style=\"text-align: right;\">\n",
       "      <th></th>\n",
       "      <th>Year</th>\n",
       "      <th>Item</th>\n",
       "      <th>Value</th>\n",
       "    </tr>\n",
       "  </thead>\n",
       "  <tbody>\n",
       "    <tr>\n",
       "      <th>1</th>\n",
       "      <td>1991</td>\n",
       "      <td>Apples</td>\n",
       "      <td>9620.000000</td>\n",
       "    </tr>\n",
       "    <tr>\n",
       "      <th>2</th>\n",
       "      <td>1992</td>\n",
       "      <td>Apples</td>\n",
       "      <td>8410.000000</td>\n",
       "    </tr>\n",
       "    <tr>\n",
       "      <th>3</th>\n",
       "      <td>1993</td>\n",
       "      <td>Apples</td>\n",
       "      <td>6560.000000</td>\n",
       "    </tr>\n",
       "    <tr>\n",
       "      <th>4</th>\n",
       "      <td>1994</td>\n",
       "      <td>Apples</td>\n",
       "      <td>5460.000000</td>\n",
       "    </tr>\n",
       "    <tr>\n",
       "      <th>5</th>\n",
       "      <td>1995</td>\n",
       "      <td>Apples</td>\n",
       "      <td>4900.000000</td>\n",
       "    </tr>\n",
       "  </tbody>\n",
       "</table>\n",
       "</div>"
      ],
      "text/plain": [
       "   Year    Item        Value\n",
       "1  1991  Apples  9620.000000\n",
       "2  1992  Apples  8410.000000\n",
       "3  1993  Apples  6560.000000\n",
       "4  1994  Apples  5460.000000\n",
       "5  1995  Apples  4900.000000"
      ]
     },
     "execution_count": 9,
     "metadata": {},
     "output_type": "execute_result"
    }
   ],
   "source": [
    "producer_df = producer_df[[\"Year\" , \"Item\",\"Value\"]]\n",
    "producer_df = producer_df.iloc[1]\n",
    "\n"
   ]
  },
  {
   "cell_type": "code",
   "execution_count": 11,
   "id": "2180ded6-e356-4470-b0ec-e954b64698a0",
   "metadata": {},
   "outputs": [],
   "source": [
    "producer_df[\"Year\"] = producer_df[\"Year\"].astype(int)\n",
    "producer_df[\"Value\"] = producer_df[\"Value\"].astype(float)\n"
   ]
  },
  {
   "cell_type": "code",
   "execution_count": 12,
   "id": "26c60185-91aa-4dbc-811e-61695935c870",
   "metadata": {},
   "outputs": [
    {
     "data": {
      "text/html": [
       "<div>\n",
       "<style scoped>\n",
       "    .dataframe tbody tr th:only-of-type {\n",
       "        vertical-align: middle;\n",
       "    }\n",
       "\n",
       "    .dataframe tbody tr th {\n",
       "        vertical-align: top;\n",
       "    }\n",
       "\n",
       "    .dataframe thead th {\n",
       "        text-align: right;\n",
       "    }\n",
       "</style>\n",
       "<table border=\"1\" class=\"dataframe\">\n",
       "  <thead>\n",
       "    <tr style=\"text-align: right;\">\n",
       "      <th></th>\n",
       "      <th>Year</th>\n",
       "      <th>Item</th>\n",
       "      <th>Value</th>\n",
       "    </tr>\n",
       "  </thead>\n",
       "  <tbody>\n",
       "    <tr>\n",
       "      <th>1</th>\n",
       "      <td>1991</td>\n",
       "      <td>Apples</td>\n",
       "      <td>9620.0</td>\n",
       "    </tr>\n",
       "    <tr>\n",
       "      <th>2</th>\n",
       "      <td>1992</td>\n",
       "      <td>Apples</td>\n",
       "      <td>8410.0</td>\n",
       "    </tr>\n",
       "    <tr>\n",
       "      <th>3</th>\n",
       "      <td>1993</td>\n",
       "      <td>Apples</td>\n",
       "      <td>6560.0</td>\n",
       "    </tr>\n",
       "    <tr>\n",
       "      <th>4</th>\n",
       "      <td>1994</td>\n",
       "      <td>Apples</td>\n",
       "      <td>5460.0</td>\n",
       "    </tr>\n",
       "    <tr>\n",
       "      <th>5</th>\n",
       "      <td>1995</td>\n",
       "      <td>Apples</td>\n",
       "      <td>4900.0</td>\n",
       "    </tr>\n",
       "  </tbody>\n",
       "</table>\n",
       "</div>"
      ],
      "text/plain": [
       "   Year    Item   Value\n",
       "1  1991  Apples  9620.0\n",
       "2  1992  Apples  8410.0\n",
       "3  1993  Apples  6560.0\n",
       "4  1994  Apples  5460.0\n",
       "5  1995  Apples  4900.0"
      ]
     },
     "execution_count": 12,
     "metadata": {},
     "output_type": "execute_result"
    }
   ],
   "source": [
    "producer_df.head()"
   ]
  },
  {
   "cell_type": "code",
   "execution_count": 27,
   "id": "173fa07e-9e79-4074-8649-92d0ab73c08e",
   "metadata": {},
   "outputs": [
    {
     "data": {
      "text/plain": [
       "['Poppy seed',\n",
       " 'Barley',\n",
       " 'Meat of cattle with the bone, fresh or chilled (biological)',\n",
       " 'Meat of chickens, fresh or chilled (biological)',\n",
       " 'Raw milk of cattle',\n",
       " 'Meat of pig with the bone, fresh or chilled (biological)',\n",
       " 'Meat of sheep, fresh or chilled (biological)',\n",
       " 'Maize (corn)',\n",
       " 'Other oil seeds, n.e.c.',\n",
       " 'Meat of turkeys, fresh or chilled (biological)']"
      ]
     },
     "execution_count": 27,
     "metadata": {},
     "output_type": "execute_result"
    }
   ],
   "source": [
    "product_counts = producer_df[\"Item\"].value_counts()\n",
    "suspects = product_counts[product_counts > 300].index.tolist()\n",
    "suspects\n"
   ]
  },
  {
   "cell_type": "code",
   "execution_count": 29,
   "id": "7ca67815-c009-41e0-9d7c-8b57f5fd161e",
   "metadata": {},
   "outputs": [
    {
     "data": {
      "text/html": [
       "<div>\n",
       "<style scoped>\n",
       "    .dataframe tbody tr th:only-of-type {\n",
       "        vertical-align: middle;\n",
       "    }\n",
       "\n",
       "    .dataframe tbody tr th {\n",
       "        vertical-align: top;\n",
       "    }\n",
       "\n",
       "    .dataframe thead th {\n",
       "        text-align: right;\n",
       "    }\n",
       "</style>\n",
       "<table border=\"1\" class=\"dataframe\">\n",
       "  <thead>\n",
       "    <tr style=\"text-align: right;\">\n",
       "      <th></th>\n",
       "      <th>Year</th>\n",
       "      <th>Item</th>\n",
       "      <th>Value</th>\n",
       "    </tr>\n",
       "  </thead>\n",
       "  <tbody>\n",
       "    <tr>\n",
       "      <th>1</th>\n",
       "      <td>1991</td>\n",
       "      <td>Apples</td>\n",
       "      <td>9620.0</td>\n",
       "    </tr>\n",
       "    <tr>\n",
       "      <th>2</th>\n",
       "      <td>1992</td>\n",
       "      <td>Apples</td>\n",
       "      <td>8410.0</td>\n",
       "    </tr>\n",
       "    <tr>\n",
       "      <th>3</th>\n",
       "      <td>1993</td>\n",
       "      <td>Apples</td>\n",
       "      <td>6560.0</td>\n",
       "    </tr>\n",
       "    <tr>\n",
       "      <th>4</th>\n",
       "      <td>1994</td>\n",
       "      <td>Apples</td>\n",
       "      <td>5460.0</td>\n",
       "    </tr>\n",
       "    <tr>\n",
       "      <th>5</th>\n",
       "      <td>1995</td>\n",
       "      <td>Apples</td>\n",
       "      <td>4900.0</td>\n",
       "    </tr>\n",
       "  </tbody>\n",
       "</table>\n",
       "</div>"
      ],
      "text/plain": [
       "   Year    Item   Value\n",
       "1  1991  Apples  9620.0\n",
       "2  1992  Apples  8410.0\n",
       "3  1993  Apples  6560.0\n",
       "4  1994  Apples  5460.0\n",
       "5  1995  Apples  4900.0"
      ]
     },
     "execution_count": 29,
     "metadata": {},
     "output_type": "execute_result"
    }
   ],
   "source": [
    "producer_df = producer_df[~producer_df[\"Item\"].isin(suspects)]\n",
    "producer_df.head()"
   ]
  },
  {
   "cell_type": "code",
   "execution_count": 30,
   "id": "5c7757fa-e682-41c2-95d2-ebb6c86ceae8",
   "metadata": {},
   "outputs": [
    {
     "ename": "NameError",
     "evalue": "name 'unique' is not defined",
     "output_type": "error",
     "traceback": [
      "\u001b[1;31m---------------------------------------------------------------------------\u001b[0m",
      "\u001b[1;31mNameError\u001b[0m                                 Traceback (most recent call last)",
      "Cell \u001b[1;32mIn[30], line 1\u001b[0m\n\u001b[1;32m----> 1\u001b[0m \u001b[38;5;28msorted\u001b[39m(producer_df[\u001b[38;5;124m\"\u001b[39m\u001b[38;5;124mItem\u001b[39m\u001b[38;5;124m\"\u001b[39m]\u001b[38;5;241m.\u001b[39mdropna(),\u001b[43munique\u001b[49m()\u001b[38;5;241m.\u001b[39mtolist())\n",
      "\u001b[1;31mNameError\u001b[0m: name 'unique' is not defined"
     ]
    }
   ],
   "source": [
    "sorted(producer_df[\"Item\"].dropna(),unique().tolist())"
   ]
  },
  {
   "cell_type": "code",
   "execution_count": null,
   "id": "71c8a1ab-210b-4311-9088-e562faddfeb1",
   "metadata": {},
   "outputs": [],
   "source": []
  }
 ],
 "metadata": {
  "kernelspec": {
   "display_name": "Python 3 (ipykernel)",
   "language": "python",
   "name": "python3"
  },
  "language_info": {
   "codemirror_mode": {
    "name": "ipython",
    "version": 3
   },
   "file_extension": ".py",
   "mimetype": "text/x-python",
   "name": "python",
   "nbconvert_exporter": "python",
   "pygments_lexer": "ipython3",
   "version": "3.12.2"
  }
 },
 "nbformat": 4,
 "nbformat_minor": 5
}
